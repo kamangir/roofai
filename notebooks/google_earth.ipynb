{
 "cells": [
  {
   "attachments": {},
   "cell_type": "markdown",
   "metadata": {},
   "source": [
    "# Google Earth API"
   ]
  },
  {
   "cell_type": "code",
   "execution_count": 1,
   "metadata": {},
   "outputs": [
    {
     "name": "stderr",
     "output_type": "stream",
     "text": [
      "🏛️  roofai-6.279.1.abcli-9.540.1.blue_objects-5.326.1.blue_options-4.225.1.torch-2.5.1.Python 3.9.6.Darwin 23.6.0..Jupyter-Notebook,\n",
      "built on 19 February 2025, 20:06:17\n"
     ]
    }
   ],
   "source": [
    "from blueflow import notebooks\n",
    "\n",
    "import math\n",
    "import matplotlib.pyplot as plt\n",
    "import numpy as np\n",
    "import trimesh\n",
    "from pythreejs import *\n",
    "\n",
    "from blue_options import string\n",
    "from blue_objects import objects\n",
    "\n",
    "from roofai.host import signature\n",
    "from roofai.google_maps.api.static import get as get_static_image\n",
    "from roofai.logger import logger\n",
    "\n",
    "logger.info(f\"{'.'.join(signature())},\\nbuilt on {string.pretty_date()}\")"
   ]
  },
  {
   "cell_type": "code",
   "execution_count": 2,
   "metadata": {},
   "outputs": [],
   "source": [
    "object_name = \"fetch-53.343318--2.650661-2025-02-19-vl6p9y\""
   ]
  },
  {
   "attachments": {},
   "cell_type": "markdown",
   "metadata": {},
   "source": [
    "---"
   ]
  },
  {
   "cell_type": "code",
   "execution_count": 3,
   "metadata": {},
   "outputs": [],
   "source": [
    "# file_path = objects.path_of(\"7.glb\", object_name)\n",
    "file_path = \"/Users/kamangir/Downloads/combined_3d_tiles.gltf\""
   ]
  },
  {
   "cell_type": "code",
   "execution_count": 7,
   "metadata": {},
   "outputs": [
    {
     "data": {
      "application/vnd.jupyter.widget-view+json": {
       "model_id": "e1dce44c30c74d188de09ab734105076",
       "version_major": 2,
       "version_minor": 0
      },
      "text/plain": [
       "Renderer(camera=PerspectiveCamera(aspect=2.0, fov=40.0, position=(3.0, 3.0, 3.0), projectionMatrix=(1.0, 0.0, …"
      ]
     },
     "execution_count": 7,
     "metadata": {},
     "output_type": "execute_result"
    }
   ],
   "source": [
    "mesh = trimesh.load(file_path, force='mesh')\n",
    "\n",
    "# Ensure vertices and faces are in the correct format\n",
    "vertices = np.array(mesh.vertices, dtype=np.float32)  # Vertex positions\n",
    "faces = np.array(mesh.faces, dtype=np.uint32).flatten()  # Face indices, flattened and converted to unsigned int\n",
    "\n",
    "# Create a Three.js buffer geometry\n",
    "buffer_geometry = BufferGeometry(attributes={\n",
    "    'position': BufferAttribute(vertices, normalized=False),\n",
    "    'index': BufferAttribute(faces, normalized=False)\n",
    "})\n",
    "\n",
    "# Set up a material\n",
    "material = MeshStandardMaterial(color='orange', roughness=0.5, metalness=0.2)\n",
    "\n",
    "# Create a mesh\n",
    "three_mesh = Mesh(geometry=buffer_geometry, material=material)\n",
    "\n",
    "# Set up a scene\n",
    "scene = Scene(children=[three_mesh, AmbientLight(color='#cccccc')])\n",
    "\n",
    "# Set up a camera\n",
    "camera = PerspectiveCamera(position=[3, 3, 3], fov=40, aspect=2)\n",
    "camera.lookAt(three_mesh.position)\n",
    "\n",
    "# Render the scene with a renderer\n",
    "renderer = Renderer(camera=camera, scene=scene, controls=[OrbitControls(controlling=camera)], width=800, height=400)\n",
    "\n",
    "# Display the renderer output\n",
    "renderer"
   ]
  },
  {
   "attachments": {},
   "cell_type": "markdown",
   "metadata": {},
   "source": [
    "---"
   ]
  },
  {
   "cell_type": "code",
   "execution_count": 5,
   "metadata": {},
   "outputs": [
    {
     "name": "stderr",
     "output_type": "stream",
     "text": [
      "🌀  ⏺️  fetch-53.343318--2.650661-2025-02-19-vl6p9y | 00006\n"
     ]
    },
    {
     "name": "stdout",
     "output_type": "stream",
     "text": [
      "🏃 View run fetch-53.343318--2.650661-2025-02-19-vl6p9y-00006 at: https://dbc-3ac1d106-bf0c.cloud.databricks.com/ml/experiments/727616023424206/runs/6b20402941244115bb6c813f94bed173\n",
      "🧪 View experiment at: https://dbc-3ac1d106-bf0c.cloud.databricks.com/ml/experiments/727616023424206\n"
     ]
    },
    {
     "name": "stderr",
     "output_type": "stream",
     "text": [
      "🌀  ⏹️  fetch-53.343318--2.650661-2025-02-19-vl6p9y\n"
     ]
    }
   ],
   "source": [
    "assert notebooks.upload(object_name)"
   ]
  },
  {
   "cell_type": "code",
   "execution_count": 6,
   "metadata": {},
   "outputs": [],
   "source": [
    "# END"
   ]
  }
 ],
 "metadata": {
  "kernelspec": {
   "display_name": ".venv",
   "language": "python",
   "name": "python3"
  },
  "language_info": {
   "codemirror_mode": {
    "name": "ipython",
    "version": 3
   },
   "file_extension": ".py",
   "mimetype": "text/x-python",
   "name": "python",
   "nbconvert_exporter": "python",
   "pygments_lexer": "ipython3",
   "version": "3.9.6"
  },
  "toc": {
   "base_numbering": 1,
   "nav_menu": {},
   "number_sections": true,
   "sideBar": true,
   "skip_h1_title": false,
   "title_cell": "Table of Contents",
   "title_sidebar": "Contents",
   "toc_cell": false,
   "toc_position": {},
   "toc_section_display": true,
   "toc_window_display": false
  }
 },
 "nbformat": 4,
 "nbformat_minor": 2
}
